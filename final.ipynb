{
 "cells": [
  {
   "cell_type": "code",
   "execution_count": 1,
   "id": "dde50e42",
   "metadata": {},
   "outputs": [],
   "source": [
    "import pandas as pd\n",
    "import plotly.graph_objects as go\n",
    "import os"
   ]
  },
  {
   "cell_type": "code",
   "execution_count": null,
   "id": "3a5913cf",
   "metadata": {},
   "outputs": [
    {
     "name": "stdout",
     "output_type": "stream",
     "text": [
      "Loading confusion matrices...\n"
     ]
    }
   ],
   "source": [
    "# Load confusion matrices from each model\n",
    "print(\"Loading confusion matrices...\")\n",
    "knn_cm = pd.read_parquet(\"./results/results_knn/confusion_matrix.parquet\")\n",
    "svm_cm = pd.read_parquet(\"./results/results_svm/svm_confusion_matrix.parquet\")\n",
    "svm_no_pca_cm = pd.read_parquet(\n",
    "    \"./results/results_svm_no_pca/svm_confusion_matrix.parquet\"\n",
    ")\n",
    "rf_cm = pd.read_parquet(\"./results/results_rf/confusion_matrix.parquet\")\n",
    "resnet_cm = pd.read_parquet(\"./results/results_resnet/confusion_matrix.parquet\")\n",
    "efficientnet_cm = pd.read_parquet(\n",
    "    \"./results/results_efficientnet/val_confusion_matrix.parquet\"\n",
    ")\n",
    "mobilenet_cm = pd.read_parquet(\"./results/results_mobilenet/confusion_matrix.parquet\")\n",
    "cnntorch_cm = pd.read_parquet(\"./results/results_cnntorch/confusion_matrix.parquet\")\n",
    "vit_cm = pd.read_parquet(\"./results/results_vit/confusion_matrix.parquet\")\n",
    "cnn_vanilla = pd.read_parquet(\"./results/results_cnn_optuna/confusion_matrix.parquet\")"
   ]
  },
  {
   "cell_type": "code",
   "execution_count": null,
   "id": "bbef476e",
   "metadata": {},
   "outputs": [
    {
     "name": "stdout",
     "output_type": "stream",
     "text": [
      "Loading classification reports...\n"
     ]
    }
   ],
   "source": [
    "# Load classification reports if available\n",
    "print(\"Loading classification reports...\")\n",
    "knn_cr = pd.read_parquet(\"./results/results_knn/classification_report.parquet\")\n",
    "svm_cr = pd.read_parquet(\"./results/results_svm/svm_classification_report.parquet\")\n",
    "svm_no_pca_cr = pd.read_parquet(\n",
    "    \"./results/results_svm_no_pca/svm_classification_report.parquet\"\n",
    ")\n",
    "rf_cr = pd.read_parquet(\"./results/results_rf/classification_report.parquet\")\n",
    "resnet_cr = pd.read_parquet(\"./results/results_resnet/classification_report.parquet\")\n",
    "efficientnet_cr = pd.read_parquet(\n",
    "    \"./results/results_efficientnet/val_classification_report.parquet\"\n",
    ")\n",
    "mobilenet_cr = pd.read_parquet(\n",
    "    \"./results/results_mobilenet/classification_report.parquet\"\n",
    ")\n",
    "cnntorch_cr = pd.read_parquet(\n",
    "    \"./results/results_cnntorch/classification_report.parquet\"\n",
    ")\n",
    "vit_cr = pd.read_parquet(\"./results/results_vit/classification_report.parquet\")\n",
    "cnn_vanilla_cr = pd.read_parquet(\n",
    "    \"./results/results_cnn_optuna/classification_report.parquet\"\n",
    ")"
   ]
  },
  {
   "cell_type": "code",
   "execution_count": null,
   "id": "52d34a0a",
   "metadata": {},
   "outputs": [],
   "source": [
    "classification_reports_available = any(\n",
    "    [\n",
    "        knn_cr is not None,\n",
    "        svm_cr is not None,\n",
    "        svm_no_pca_cr is not None,\n",
    "        rf_cr is not None,\n",
    "        resnet_cr is not None,\n",
    "        efficientnet_cr is not None,\n",
    "        mobilenet_cr is not None,\n",
    "    ]\n",
    ")"
   ]
  },
  {
   "cell_type": "code",
   "execution_count": null,
   "id": "b8125ae3",
   "metadata": {},
   "outputs": [],
   "source": [
    "# Function to extract metrics from confusion matrix\n",
    "def extract_metrics_from_cm(cm, model_name):\n",
    "    if cm is None:\n",
    "        print(f\"No confusion matrix available for {model_name}\")\n",
    "        return None\n",
    "\n",
    "    try:\n",
    "        # Handle different confusion matrix formats\n",
    "        if \"Actual\" in cm.columns:  # KNN format with 'Actual' column\n",
    "            tn = cm.loc[cm[\"Actual\"] == \"NORMAL\", \"NORMAL\"].iloc[0]\n",
    "            fp = cm.loc[cm[\"Actual\"] == \"NORMAL\", \"PNEUMONIA\"].iloc[0]\n",
    "            fn = cm.loc[cm[\"Actual\"] == \"PNEUMONIA\", \"NORMAL\"].iloc[0]\n",
    "            tp = cm.loc[cm[\"Actual\"] == \"PNEUMONIA\", \"PNEUMONIA\"].iloc[0]\n",
    "        elif (\n",
    "            isinstance(cm.index, pd.Index)\n",
    "            and \"NORMAL\" in cm.index\n",
    "            and \"PNEUMONIA\" in cm.index\n",
    "        ):\n",
    "            # Standard format with NORMAL/PNEUMONIA as index\n",
    "            tn = cm.loc[\"NORMAL\", \"NORMAL\"]\n",
    "            fp = cm.loc[\"NORMAL\", \"PNEUMONIA\"]\n",
    "            fn = cm.loc[\"PNEUMONIA\", \"NORMAL\"]\n",
    "            tp = cm.loc[\"PNEUMONIA\", \"PNEUMONIA\"]\n",
    "        else:\n",
    "            # Try to handle numeric indices (assuming 2x2 matrix)\n",
    "            cm_values = cm.values if hasattr(cm, \"values\") else cm\n",
    "            if cm_values.shape == (2, 2):\n",
    "                tn, fp, fn, tp = cm_values.flatten()\n",
    "            else:\n",
    "                raise ValueError(f\"Unexpected confusion matrix format for {model_name}\")\n",
    "\n",
    "        # Calculate metrics\n",
    "        accuracy = (tp + tn) / (tp + tn + fp + fn)\n",
    "        precision = tp / (tp + fp) if (tp + fp) > 0 else 0\n",
    "        recall = tp / (tp + fn) if (tp + fn) > 0 else 0\n",
    "        f1 = (\n",
    "            2 * (precision * recall) / (precision + recall)\n",
    "            if (precision + recall) > 0\n",
    "            else 0\n",
    "        )\n",
    "        specificity = tn / (tn + fp) if (tn + fp) > 0 else 0\n",
    "\n",
    "        return {\n",
    "            \"model\": model_name,\n",
    "            \"accuracy\": accuracy,\n",
    "            \"precision\": precision,\n",
    "            \"recall\": recall,\n",
    "            \"specificity\": specificity,\n",
    "            \"f1\": f1,\n",
    "            \"confusion_matrix\": cm,\n",
    "            \"tp\": int(tp),\n",
    "            \"tn\": int(tn),\n",
    "            \"fp\": int(fp),\n",
    "            \"fn\": int(fn),\n",
    "        }\n",
    "    except Exception as e:\n",
    "        print(f\"Error extracting metrics from confusion matrix for {model_name}: {e}\")\n",
    "        return None"
   ]
  },
  {
   "cell_type": "code",
   "execution_count": null,
   "id": "f227b8af",
   "metadata": {},
   "outputs": [],
   "source": [
    "# Function to extract metrics from classification report\n",
    "def extract_metrics_from_cr(cr, model_name):\n",
    "    if cr is None:\n",
    "        return None\n",
    "\n",
    "    try:\n",
    "        if \"precision\" in cr.columns and \"recall\" in cr.columns:\n",
    "            precision = cr.loc[cr.index == \"PNEUMONIA\", \"precision\"].iloc[0]\n",
    "            recall = cr.loc[cr.index == \"PNEUMONIA\", \"recall\"].iloc[0]\n",
    "            f1 = cr.loc[cr.index == \"PNEUMONIA\", \"f1-score\"].iloc[0]\n",
    "\n",
    "            try:\n",
    "                accuracy = cr.loc[cr.index == \"accuracy\", \"precision\"].iloc[0]\n",
    "            except (IndexError, KeyError):\n",
    "                accuracy = None\n",
    "\n",
    "            return {\n",
    "                \"model\": model_name,\n",
    "                \"accuracy\": accuracy,\n",
    "                \"precision\": precision,\n",
    "                \"recall\": recall,\n",
    "                \"f1\": f1,\n",
    "                \"from_cr\": True,\n",
    "            }\n",
    "        else:\n",
    "            print(\n",
    "                f\"Classification report for {model_name} is not in the expected format.\"\n",
    "            )\n",
    "            return None\n",
    "    except Exception as e:\n",
    "        print(\n",
    "            f\"Could not extract metrics from classification report for {model_name}: {e}\"\n",
    "        )\n",
    "        return None"
   ]
  },
  {
   "cell_type": "code",
   "execution_count": null,
   "id": "eb6e3885",
   "metadata": {},
   "outputs": [
    {
     "name": "stdout",
     "output_type": "stream",
     "text": [
      "Calculating metrics...\n"
     ]
    }
   ],
   "source": [
    "# Calculate metrics for each model\n",
    "print(\"Calculating metrics...\")\n",
    "model_data = [\n",
    "    (knn_cm, \"KNN\", knn_cr),\n",
    "    (svm_cm, \"SVM\", svm_cr),\n",
    "    (svm_no_pca_cm, \"SVM No PCA\", svm_no_pca_cr),\n",
    "    (rf_cm, \"Random Forest\", rf_cr),\n",
    "    (resnet_cm, \"ResNet\", resnet_cr),\n",
    "    (efficientnet_cm, \"EfficientNet\", efficientnet_cr),\n",
    "    (mobilenet_cm, \"MobileNetV2\", mobilenet_cr),\n",
    "    (cnntorch_cm, \"CNN Torch\", cnntorch_cr),\n",
    "    (vit_cm, \"ViT\", vit_cr),\n",
    "    (cnn_vanilla_cm, \"CNN Vanilla\", cnn_vanilla_cr),\n",
    "]\n",
    "\n",
    "all_results = []"
   ]
  },
  {
   "cell_type": "code",
   "execution_count": null,
   "id": "ba63ded8",
   "metadata": {},
   "outputs": [
    {
     "name": "stdout",
     "output_type": "stream",
     "text": [
      "Could not extract metrics from classification report for Random Forest: single positional indexer is out-of-bounds\n",
      "Could not extract metrics from classification report for EfficientNet: single positional indexer is out-of-bounds\n",
      "Error extracting metrics from confusion matrix for ViT: Unexpected confusion matrix format for ViT\n"
     ]
    }
   ],
   "source": [
    "for cm, model_name, cr in model_data:\n",
    "    results = extract_metrics_from_cm(cm, model_name)\n",
    "    if results is not None:\n",
    "        # If classification report is available, try to update metrics\n",
    "        if classification_reports_available and cr is not None:\n",
    "            cr_metrics = extract_metrics_from_cr(cr, model_name)\n",
    "            if cr_metrics:\n",
    "                for key in [\"accuracy\", \"precision\", \"recall\", \"f1\"]:\n",
    "                    if cr_metrics.get(key) is not None:\n",
    "                        results[key] = cr_metrics[key]\n",
    "\n",
    "        all_results.append(results)\n",
    "\n",
    "if not all_results:\n",
    "    print(\"No valid results found. Please check your data files.\")\n",
    "    exit()"
   ]
  },
  {
   "cell_type": "code",
   "execution_count": null,
   "id": "411c28d7",
   "metadata": {},
   "outputs": [
    {
     "name": "stdout",
     "output_type": "stream",
     "text": [
      "\n",
      "Model Performance Comparison:\n",
      "        Model  Accuracy  Precision   Recall  F1-Score\n",
      " EfficientNet  0.987548   0.994845 0.988476  0.991651\n",
      "       ResNet  0.889423   0.902256 0.923077  0.912548\n",
      "    CNN Torch  0.870192   0.953079 0.833333  0.889193\n",
      "  MobileNetV2  0.815705   0.784679 0.971795  0.868270\n",
      "   CNN Vanilla  0.812500   0.788584 0.956410  0.864426\n",
      "          SVM  0.793269   0.759443 0.979487  0.855543\n",
      "          KNN  0.772436   0.736641 0.989744  0.844639\n",
      "   SVM No PCA  0.766026   0.731061 0.989744  0.840959\n",
      "Random Forest  0.722756   0.694794 0.992308  0.817318\n"
     ]
    }
   ],
   "source": [
    "# Create a comparison dataframe\n",
    "comparison_df = pd.DataFrame(\n",
    "    [\n",
    "        {\n",
    "            \"Model\": r[\"model\"],\n",
    "            \"Accuracy\": r[\"accuracy\"],\n",
    "            \"Precision\": r[\"precision\"],\n",
    "            \"Recall\": r[\"recall\"],\n",
    "            \"F1-Score\": r[\"f1\"],\n",
    "        }\n",
    "        for r in all_results\n",
    "    ]\n",
    ")\n",
    "\n",
    "# Sort by F1-Score\n",
    "comparison_df = comparison_df.sort_values(\"F1-Score\", ascending=False).reset_index(\n",
    "    drop=True\n",
    ")\n",
    "\n",
    "# Display comparison table\n",
    "print(\"\\nModel Performance Comparison:\")\n",
    "print(comparison_df.to_string(index=False))"
   ]
  },
  {
   "cell_type": "code",
   "execution_count": null,
   "id": "84260dde",
   "metadata": {},
   "outputs": [
    {
     "data": {
      "application/vnd.plotly.v1+json": {
       "config": {
        "plotlyServerURL": "https://plot.ly"
       },
       "data": [
        {
         "marker": {
          "color": "#4285F4"
         },
         "name": "Accuracy",
         "text": [
          "0.988",
          "0.889",
          "0.870",
          "0.816",
          "0.812",
          "0.793",
          "0.772",
          "0.766",
          "0.723"
         ],
         "textposition": "outside",
         "type": "bar",
         "x": [
          "EfficientNet",
          "ResNet",
          "CNN Torch",
          "MobileNetV2",
          "CNN Vanilla",
          "SVM",
          "KNN",
          "SVM No PCA",
          "Random Forest"
         ],
         "y": {
          "bdata": "NvXOCf6Z7z9iJ3ZiJ3bsP4qd2Imd2Os/pEEapEEa6j8AAAAAAADqPyd2Yid2Yuk/fcu3fMu36D81SIM0SIPoPw3SIA3SIOc/",
          "dtype": "f8"
         }
        },
        {
         "marker": {
          "color": "#34A853"
         },
         "name": "Precision",
         "text": [
          "0.995",
          "0.902",
          "0.953",
          "0.785",
          "0.789",
          "0.759",
          "0.737",
          "0.731",
          "0.695"
         ],
         "textposition": "outside",
         "type": "bar",
         "x": [
          "EfficientNet",
          "ResNet",
          "CNN Torch",
          "MobileNetV2",
          "CNN Vanilla",
          "SVM",
          "KNN",
          "SVM No PCA",
          "Random Forest"
         ],
         "y": {
          "bdata": "EDoq8MXV7z/0zdE3R9/sP4D++eeff+4/tjgnUhcc6T9+2PB7EzzpP19qiR5cTeg/F/xVnJCS5z9lk0022WTnP2R+wae/O+Y/",
          "dtype": "f8"
         }
        },
        {
         "marker": {
          "color": "#FBBC05"
         },
         "name": "Recall",
         "text": [
          "0.988",
          "0.923",
          "0.833",
          "0.972",
          "0.956",
          "0.979",
          "0.990",
          "0.990",
          "0.992"
         ],
         "textposition": "outside",
         "type": "bar",
         "x": [
          "EfficientNet",
          "ResNet",
          "CNN Torch",
          "MobileNetV2",
          "CNN Vanilla",
          "SVM",
          "KNN",
          "SVM No PCA",
          "Random Forest"
         ],
         "y": {
          "bdata": "7dxWE5mh7z+e2Imd2IntP6uqqqqqquo/j/EYj/EY7z+v6Zqu6ZruP3/1V3/1V+8/wPqrv/qr7z/A+qu/+qvvPxD8wA/8wO8/",
          "dtype": "f8"
         }
        },
        {
         "marker": {
          "color": "#8E44AD"
         },
         "name": "F1-Score",
         "text": [
          "0.992",
          "0.913",
          "0.889",
          "0.868",
          "0.864",
          "0.856",
          "0.845",
          "0.841",
          "0.817"
         ],
         "textposition": "outside",
         "type": "bar",
         "x": [
          "EfficientNet",
          "ResNet",
          "CNN Torch",
          "MobileNetV2",
          "CNN Vanilla",
          "SVM",
          "KNN",
          "SVM No PCA",
          "Random Forest"
         ],
         "y": {
          "bdata": "qpJ0D5q77z8K2uDfljPtP2hi5aNEdOw/XK8a3d7I6z/XFi2YYanrPw/nYvObYOs/45M4Q0gH6z+wzJMFIunqP9K3SMF3J+o/",
          "dtype": "f8"
         }
        }
       ],
       "layout": {
        "barmode": "group",
        "font": {
         "size": 12
        },
        "plot_bgcolor": "white",
        "template": {
         "data": {
          "bar": [
           {
            "error_x": {
             "color": "#2a3f5f"
            },
            "error_y": {
             "color": "#2a3f5f"
            },
            "marker": {
             "line": {
              "color": "#E5ECF6",
              "width": 0.5
             },
             "pattern": {
              "fillmode": "overlay",
              "size": 10,
              "solidity": 0.2
             }
            },
            "type": "bar"
           }
          ],
          "barpolar": [
           {
            "marker": {
             "line": {
              "color": "#E5ECF6",
              "width": 0.5
             },
             "pattern": {
              "fillmode": "overlay",
              "size": 10,
              "solidity": 0.2
             }
            },
            "type": "barpolar"
           }
          ],
          "carpet": [
           {
            "aaxis": {
             "endlinecolor": "#2a3f5f",
             "gridcolor": "white",
             "linecolor": "white",
             "minorgridcolor": "white",
             "startlinecolor": "#2a3f5f"
            },
            "baxis": {
             "endlinecolor": "#2a3f5f",
             "gridcolor": "white",
             "linecolor": "white",
             "minorgridcolor": "white",
             "startlinecolor": "#2a3f5f"
            },
            "type": "carpet"
           }
          ],
          "choropleth": [
           {
            "colorbar": {
             "outlinewidth": 0,
             "ticks": ""
            },
            "type": "choropleth"
           }
          ],
          "contour": [
           {
            "colorbar": {
             "outlinewidth": 0,
             "ticks": ""
            },
            "colorscale": [
             [
              0,
              "#0d0887"
             ],
             [
              0.1111111111111111,
              "#46039f"
             ],
             [
              0.2222222222222222,
              "#7201a8"
             ],
             [
              0.3333333333333333,
              "#9c179e"
             ],
             [
              0.4444444444444444,
              "#bd3786"
             ],
             [
              0.5555555555555556,
              "#d8576b"
             ],
             [
              0.6666666666666666,
              "#ed7953"
             ],
             [
              0.7777777777777778,
              "#fb9f3a"
             ],
             [
              0.8888888888888888,
              "#fdca26"
             ],
             [
              1,
              "#f0f921"
             ]
            ],
            "type": "contour"
           }
          ],
          "contourcarpet": [
           {
            "colorbar": {
             "outlinewidth": 0,
             "ticks": ""
            },
            "type": "contourcarpet"
           }
          ],
          "heatmap": [
           {
            "colorbar": {
             "outlinewidth": 0,
             "ticks": ""
            },
            "colorscale": [
             [
              0,
              "#0d0887"
             ],
             [
              0.1111111111111111,
              "#46039f"
             ],
             [
              0.2222222222222222,
              "#7201a8"
             ],
             [
              0.3333333333333333,
              "#9c179e"
             ],
             [
              0.4444444444444444,
              "#bd3786"
             ],
             [
              0.5555555555555556,
              "#d8576b"
             ],
             [
              0.6666666666666666,
              "#ed7953"
             ],
             [
              0.7777777777777778,
              "#fb9f3a"
             ],
             [
              0.8888888888888888,
              "#fdca26"
             ],
             [
              1,
              "#f0f921"
             ]
            ],
            "type": "heatmap"
           }
          ],
          "histogram": [
           {
            "marker": {
             "pattern": {
              "fillmode": "overlay",
              "size": 10,
              "solidity": 0.2
             }
            },
            "type": "histogram"
           }
          ],
          "histogram2d": [
           {
            "colorbar": {
             "outlinewidth": 0,
             "ticks": ""
            },
            "colorscale": [
             [
              0,
              "#0d0887"
             ],
             [
              0.1111111111111111,
              "#46039f"
             ],
             [
              0.2222222222222222,
              "#7201a8"
             ],
             [
              0.3333333333333333,
              "#9c179e"
             ],
             [
              0.4444444444444444,
              "#bd3786"
             ],
             [
              0.5555555555555556,
              "#d8576b"
             ],
             [
              0.6666666666666666,
              "#ed7953"
             ],
             [
              0.7777777777777778,
              "#fb9f3a"
             ],
             [
              0.8888888888888888,
              "#fdca26"
             ],
             [
              1,
              "#f0f921"
             ]
            ],
            "type": "histogram2d"
           }
          ],
          "histogram2dcontour": [
           {
            "colorbar": {
             "outlinewidth": 0,
             "ticks": ""
            },
            "colorscale": [
             [
              0,
              "#0d0887"
             ],
             [
              0.1111111111111111,
              "#46039f"
             ],
             [
              0.2222222222222222,
              "#7201a8"
             ],
             [
              0.3333333333333333,
              "#9c179e"
             ],
             [
              0.4444444444444444,
              "#bd3786"
             ],
             [
              0.5555555555555556,
              "#d8576b"
             ],
             [
              0.6666666666666666,
              "#ed7953"
             ],
             [
              0.7777777777777778,
              "#fb9f3a"
             ],
             [
              0.8888888888888888,
              "#fdca26"
             ],
             [
              1,
              "#f0f921"
             ]
            ],
            "type": "histogram2dcontour"
           }
          ],
          "mesh3d": [
           {
            "colorbar": {
             "outlinewidth": 0,
             "ticks": ""
            },
            "type": "mesh3d"
           }
          ],
          "parcoords": [
           {
            "line": {
             "colorbar": {
              "outlinewidth": 0,
              "ticks": ""
             }
            },
            "type": "parcoords"
           }
          ],
          "pie": [
           {
            "automargin": true,
            "type": "pie"
           }
          ],
          "scatter": [
           {
            "fillpattern": {
             "fillmode": "overlay",
             "size": 10,
             "solidity": 0.2
            },
            "type": "scatter"
           }
          ],
          "scatter3d": [
           {
            "line": {
             "colorbar": {
              "outlinewidth": 0,
              "ticks": ""
             }
            },
            "marker": {
             "colorbar": {
              "outlinewidth": 0,
              "ticks": ""
             }
            },
            "type": "scatter3d"
           }
          ],
          "scattercarpet": [
           {
            "marker": {
             "colorbar": {
              "outlinewidth": 0,
              "ticks": ""
             }
            },
            "type": "scattercarpet"
           }
          ],
          "scattergeo": [
           {
            "marker": {
             "colorbar": {
              "outlinewidth": 0,
              "ticks": ""
             }
            },
            "type": "scattergeo"
           }
          ],
          "scattergl": [
           {
            "marker": {
             "colorbar": {
              "outlinewidth": 0,
              "ticks": ""
             }
            },
            "type": "scattergl"
           }
          ],
          "scattermap": [
           {
            "marker": {
             "colorbar": {
              "outlinewidth": 0,
              "ticks": ""
             }
            },
            "type": "scattermap"
           }
          ],
          "scattermapbox": [
           {
            "marker": {
             "colorbar": {
              "outlinewidth": 0,
              "ticks": ""
             }
            },
            "type": "scattermapbox"
           }
          ],
          "scatterpolar": [
           {
            "marker": {
             "colorbar": {
              "outlinewidth": 0,
              "ticks": ""
             }
            },
            "type": "scatterpolar"
           }
          ],
          "scatterpolargl": [
           {
            "marker": {
             "colorbar": {
              "outlinewidth": 0,
              "ticks": ""
             }
            },
            "type": "scatterpolargl"
           }
          ],
          "scatterternary": [
           {
            "marker": {
             "colorbar": {
              "outlinewidth": 0,
              "ticks": ""
             }
            },
            "type": "scatterternary"
           }
          ],
          "surface": [
           {
            "colorbar": {
             "outlinewidth": 0,
             "ticks": ""
            },
            "colorscale": [
             [
              0,
              "#0d0887"
             ],
             [
              0.1111111111111111,
              "#46039f"
             ],
             [
              0.2222222222222222,
              "#7201a8"
             ],
             [
              0.3333333333333333,
              "#9c179e"
             ],
             [
              0.4444444444444444,
              "#bd3786"
             ],
             [
              0.5555555555555556,
              "#d8576b"
             ],
             [
              0.6666666666666666,
              "#ed7953"
             ],
             [
              0.7777777777777778,
              "#fb9f3a"
             ],
             [
              0.8888888888888888,
              "#fdca26"
             ],
             [
              1,
              "#f0f921"
             ]
            ],
            "type": "surface"
           }
          ],
          "table": [
           {
            "cells": {
             "fill": {
              "color": "#EBF0F8"
             },
             "line": {
              "color": "white"
             }
            },
            "header": {
             "fill": {
              "color": "#C8D4E3"
             },
             "line": {
              "color": "white"
             }
            },
            "type": "table"
           }
          ]
         },
         "layout": {
          "annotationdefaults": {
           "arrowcolor": "#2a3f5f",
           "arrowhead": 0,
           "arrowwidth": 1
          },
          "autotypenumbers": "strict",
          "coloraxis": {
           "colorbar": {
            "outlinewidth": 0,
            "ticks": ""
           }
          },
          "colorscale": {
           "diverging": [
            [
             0,
             "#8e0152"
            ],
            [
             0.1,
             "#c51b7d"
            ],
            [
             0.2,
             "#de77ae"
            ],
            [
             0.3,
             "#f1b6da"
            ],
            [
             0.4,
             "#fde0ef"
            ],
            [
             0.5,
             "#f7f7f7"
            ],
            [
             0.6,
             "#e6f5d0"
            ],
            [
             0.7,
             "#b8e186"
            ],
            [
             0.8,
             "#7fbc41"
            ],
            [
             0.9,
             "#4d9221"
            ],
            [
             1,
             "#276419"
            ]
           ],
           "sequential": [
            [
             0,
             "#0d0887"
            ],
            [
             0.1111111111111111,
             "#46039f"
            ],
            [
             0.2222222222222222,
             "#7201a8"
            ],
            [
             0.3333333333333333,
             "#9c179e"
            ],
            [
             0.4444444444444444,
             "#bd3786"
            ],
            [
             0.5555555555555556,
             "#d8576b"
            ],
            [
             0.6666666666666666,
             "#ed7953"
            ],
            [
             0.7777777777777778,
             "#fb9f3a"
            ],
            [
             0.8888888888888888,
             "#fdca26"
            ],
            [
             1,
             "#f0f921"
            ]
           ],
           "sequentialminus": [
            [
             0,
             "#0d0887"
            ],
            [
             0.1111111111111111,
             "#46039f"
            ],
            [
             0.2222222222222222,
             "#7201a8"
            ],
            [
             0.3333333333333333,
             "#9c179e"
            ],
            [
             0.4444444444444444,
             "#bd3786"
            ],
            [
             0.5555555555555556,
             "#d8576b"
            ],
            [
             0.6666666666666666,
             "#ed7953"
            ],
            [
             0.7777777777777778,
             "#fb9f3a"
            ],
            [
             0.8888888888888888,
             "#fdca26"
            ],
            [
             1,
             "#f0f921"
            ]
           ]
          },
          "colorway": [
           "#636efa",
           "#EF553B",
           "#00cc96",
           "#ab63fa",
           "#FFA15A",
           "#19d3f3",
           "#FF6692",
           "#B6E880",
           "#FF97FF",
           "#FECB52"
          ],
          "font": {
           "color": "#2a3f5f"
          },
          "geo": {
           "bgcolor": "white",
           "lakecolor": "white",
           "landcolor": "#E5ECF6",
           "showlakes": true,
           "showland": true,
           "subunitcolor": "white"
          },
          "hoverlabel": {
           "align": "left"
          },
          "hovermode": "closest",
          "mapbox": {
           "style": "light"
          },
          "paper_bgcolor": "white",
          "plot_bgcolor": "#E5ECF6",
          "polar": {
           "angularaxis": {
            "gridcolor": "white",
            "linecolor": "white",
            "ticks": ""
           },
           "bgcolor": "#E5ECF6",
           "radialaxis": {
            "gridcolor": "white",
            "linecolor": "white",
            "ticks": ""
           }
          },
          "scene": {
           "xaxis": {
            "backgroundcolor": "#E5ECF6",
            "gridcolor": "white",
            "gridwidth": 2,
            "linecolor": "white",
            "showbackground": true,
            "ticks": "",
            "zerolinecolor": "white"
           },
           "yaxis": {
            "backgroundcolor": "#E5ECF6",
            "gridcolor": "white",
            "gridwidth": 2,
            "linecolor": "white",
            "showbackground": true,
            "ticks": "",
            "zerolinecolor": "white"
           },
           "zaxis": {
            "backgroundcolor": "#E5ECF6",
            "gridcolor": "white",
            "gridwidth": 2,
            "linecolor": "white",
            "showbackground": true,
            "ticks": "",
            "zerolinecolor": "white"
           }
          },
          "shapedefaults": {
           "line": {
            "color": "#2a3f5f"
           }
          },
          "ternary": {
           "aaxis": {
            "gridcolor": "white",
            "linecolor": "white",
            "ticks": ""
           },
           "baxis": {
            "gridcolor": "white",
            "linecolor": "white",
            "ticks": ""
           },
           "bgcolor": "#E5ECF6",
           "caxis": {
            "gridcolor": "white",
            "linecolor": "white",
            "ticks": ""
           }
          },
          "title": {
           "x": 0.05
          },
          "xaxis": {
           "automargin": true,
           "gridcolor": "white",
           "linecolor": "white",
           "ticks": "",
           "title": {
            "standoff": 15
           },
           "zerolinecolor": "white",
           "zerolinewidth": 2
          },
          "yaxis": {
           "automargin": true,
           "gridcolor": "white",
           "linecolor": "white",
           "ticks": "",
           "title": {
            "standoff": 15
           },
           "zerolinecolor": "white",
           "zerolinewidth": 2
          }
         }
        },
        "title": {
         "text": "Model Performance by Metric"
        },
        "xaxis": {
         "tickangle": -45,
         "title": {
          "text": "Model"
         }
        },
        "yaxis": {
         "title": {
          "text": "Score"
         }
        }
       }
      }
     },
     "metadata": {},
     "output_type": "display_data"
    }
   ],
   "source": [
    "# Create Bar Chart for Model Performance Comparison\n",
    "fig_perf = go.Figure()\n",
    "\n",
    "colors = {\n",
    "    \"Accuracy\": \"#4285F4\",\n",
    "    \"Precision\": \"#34A853\",\n",
    "    \"Recall\": \"#FBBC05\",\n",
    "    \"F1-Score\": \"#8E44AD\",\n",
    "}\n",
    "\n",
    "for metric in [\"Accuracy\", \"Precision\", \"Recall\", \"F1-Score\"]:\n",
    "    fig_perf.add_trace(\n",
    "        go.Bar(\n",
    "            x=comparison_df[\"Model\"],\n",
    "            y=comparison_df[metric],\n",
    "            name=metric,\n",
    "            marker_color=colors[metric],\n",
    "            text=[f\"{v:.3f}\" for v in comparison_df[metric]],\n",
    "            textposition=\"outside\",\n",
    "        )\n",
    "    )\n",
    "\n",
    "fig_perf.update_layout(\n",
    "    title=\"Model Performance by Metric\",\n",
    "    xaxis_title=\"Model\",\n",
    "    yaxis_title=\"Score\",\n",
    "    barmode=\"group\",\n",
    "    plot_bgcolor=\"white\",\n",
    "    font=dict(size=12),\n",
    "    xaxis_tickangle=-45,\n",
    ")\n",
    "\n",
    "# Show the bar chart\n",
    "fig_perf.show()"
   ]
  },
  {
   "cell_type": "code",
   "execution_count": null,
   "id": "0cee8d0b",
   "metadata": {},
   "outputs": [
    {
     "data": {
      "application/vnd.plotly.v1+json": {
       "config": {
        "plotlyServerURL": "https://plot.ly"
       },
       "data": [
        {
         "marker": {
          "color": "#4285F4",
          "size": 15
         },
         "mode": "markers+text",
         "showlegend": false,
         "text": [
          "KNN"
         ],
         "textfont": {
          "size": 10
         },
         "textposition": "top center",
         "type": "scatter",
         "x": [
          0.5897435897435898
         ],
         "y": [
          0.9897435897435898
         ]
        },
        {
         "marker": {
          "color": "#34A853",
          "size": 15
         },
         "mode": "markers+text",
         "showlegend": false,
         "text": [
          "SVM"
         ],
         "textfont": {
          "size": 10
         },
         "textposition": "bottom center",
         "type": "scatter",
         "x": [
          0.5170940170940171
         ],
         "y": [
          0.9794871794871794
         ]
        },
        {
         "marker": {
          "color": "#FF6B6B",
          "size": 15
         },
         "mode": "markers+text",
         "showlegend": false,
         "text": [
          "SVM No PCA"
         ],
         "textfont": {
          "size": 10
         },
         "textposition": "middle left",
         "type": "scatter",
         "x": [
          0.6068376068376068
         ],
         "y": [
          0.9897435897435898
         ]
        },
        {
         "marker": {
          "color": "#EA4335",
          "size": 15
         },
         "mode": "markers+text",
         "showlegend": false,
         "text": [
          "Random Forest"
         ],
         "textfont": {
          "size": 10
         },
         "textposition": "middle right",
         "type": "scatter",
         "x": [
          0.7264957264957265
         ],
         "y": [
          0.9923076923076923
         ]
        },
        {
         "marker": {
          "color": "#F57C00",
          "size": 15
         },
         "mode": "markers+text",
         "showlegend": false,
         "text": [
          "ResNet"
         ],
         "textfont": {
          "size": 10
         },
         "textposition": "top left",
         "type": "scatter",
         "x": [
          0.16666666666666666
         ],
         "y": [
          0.9230769230769231
         ]
        },
        {
         "marker": {
          "color": "#00BCD4",
          "size": 15
         },
         "mode": "markers+text",
         "showlegend": false,
         "text": [
          "EfficientNet"
         ],
         "textfont": {
          "size": 10
         },
         "textposition": "top right",
         "type": "scatter",
         "x": [
          0.015209125475285171
         ],
         "y": [
          0.9884763124199744
         ]
        },
        {
         "marker": {
          "color": "#8E44AD",
          "size": 15
         },
         "mode": "markers+text",
         "showlegend": false,
         "text": [
          "MobileNetV2"
         ],
         "textfont": {
          "size": 10
         },
         "textposition": "bottom left",
         "type": "scatter",
         "x": [
          0.4444444444444444
         ],
         "y": [
          0.9717948717948718
         ]
        },
        {
         "marker": {
          "color": "#9C27B0",
          "size": 15
         },
         "mode": "markers+text",
         "showlegend": false,
         "text": [
          "CNN Torch"
         ],
         "textfont": {
          "size": 10
         },
         "textposition": "top center",
         "type": "scatter",
         "x": [
          0.06837606837606838
         ],
         "y": [
          0.8333333333333334
         ]
        },
        {
         "marker": {
          "color": "#8E44AD",
          "size": 15
         },
         "mode": "markers+text",
         "showlegend": false,
         "text": [
          "CNN Vanilla"
         ],
         "textfont": {
          "size": 10
         },
         "textposition": "bottom center",
         "type": "scatter",
         "x": [
          0.42735042735042733
         ],
         "y": [
          0.9564102564102565
         ]
        },
        {
         "line": {
          "color": "gray",
          "dash": "dash"
         },
         "mode": "lines",
         "name": "Random Classifier",
         "showlegend": true,
         "type": "scatter",
         "x": [
          0,
          1
         ],
         "y": [
          0,
          1
         ]
        }
       ],
       "layout": {
        "font": {
         "size": 12
        },
        "height": 800,
        "margin": {
         "b": 100,
         "l": 100,
         "r": 100,
         "t": 150
        },
        "plot_bgcolor": "white",
        "template": {
         "data": {
          "bar": [
           {
            "error_x": {
             "color": "#2a3f5f"
            },
            "error_y": {
             "color": "#2a3f5f"
            },
            "marker": {
             "line": {
              "color": "#E5ECF6",
              "width": 0.5
             },
             "pattern": {
              "fillmode": "overlay",
              "size": 10,
              "solidity": 0.2
             }
            },
            "type": "bar"
           }
          ],
          "barpolar": [
           {
            "marker": {
             "line": {
              "color": "#E5ECF6",
              "width": 0.5
             },
             "pattern": {
              "fillmode": "overlay",
              "size": 10,
              "solidity": 0.2
             }
            },
            "type": "barpolar"
           }
          ],
          "carpet": [
           {
            "aaxis": {
             "endlinecolor": "#2a3f5f",
             "gridcolor": "white",
             "linecolor": "white",
             "minorgridcolor": "white",
             "startlinecolor": "#2a3f5f"
            },
            "baxis": {
             "endlinecolor": "#2a3f5f",
             "gridcolor": "white",
             "linecolor": "white",
             "minorgridcolor": "white",
             "startlinecolor": "#2a3f5f"
            },
            "type": "carpet"
           }
          ],
          "choropleth": [
           {
            "colorbar": {
             "outlinewidth": 0,
             "ticks": ""
            },
            "type": "choropleth"
           }
          ],
          "contour": [
           {
            "colorbar": {
             "outlinewidth": 0,
             "ticks": ""
            },
            "colorscale": [
             [
              0,
              "#0d0887"
             ],
             [
              0.1111111111111111,
              "#46039f"
             ],
             [
              0.2222222222222222,
              "#7201a8"
             ],
             [
              0.3333333333333333,
              "#9c179e"
             ],
             [
              0.4444444444444444,
              "#bd3786"
             ],
             [
              0.5555555555555556,
              "#d8576b"
             ],
             [
              0.6666666666666666,
              "#ed7953"
             ],
             [
              0.7777777777777778,
              "#fb9f3a"
             ],
             [
              0.8888888888888888,
              "#fdca26"
             ],
             [
              1,
              "#f0f921"
             ]
            ],
            "type": "contour"
           }
          ],
          "contourcarpet": [
           {
            "colorbar": {
             "outlinewidth": 0,
             "ticks": ""
            },
            "type": "contourcarpet"
           }
          ],
          "heatmap": [
           {
            "colorbar": {
             "outlinewidth": 0,
             "ticks": ""
            },
            "colorscale": [
             [
              0,
              "#0d0887"
             ],
             [
              0.1111111111111111,
              "#46039f"
             ],
             [
              0.2222222222222222,
              "#7201a8"
             ],
             [
              0.3333333333333333,
              "#9c179e"
             ],
             [
              0.4444444444444444,
              "#bd3786"
             ],
             [
              0.5555555555555556,
              "#d8576b"
             ],
             [
              0.6666666666666666,
              "#ed7953"
             ],
             [
              0.7777777777777778,
              "#fb9f3a"
             ],
             [
              0.8888888888888888,
              "#fdca26"
             ],
             [
              1,
              "#f0f921"
             ]
            ],
            "type": "heatmap"
           }
          ],
          "histogram": [
           {
            "marker": {
             "pattern": {
              "fillmode": "overlay",
              "size": 10,
              "solidity": 0.2
             }
            },
            "type": "histogram"
           }
          ],
          "histogram2d": [
           {
            "colorbar": {
             "outlinewidth": 0,
             "ticks": ""
            },
            "colorscale": [
             [
              0,
              "#0d0887"
             ],
             [
              0.1111111111111111,
              "#46039f"
             ],
             [
              0.2222222222222222,
              "#7201a8"
             ],
             [
              0.3333333333333333,
              "#9c179e"
             ],
             [
              0.4444444444444444,
              "#bd3786"
             ],
             [
              0.5555555555555556,
              "#d8576b"
             ],
             [
              0.6666666666666666,
              "#ed7953"
             ],
             [
              0.7777777777777778,
              "#fb9f3a"
             ],
             [
              0.8888888888888888,
              "#fdca26"
             ],
             [
              1,
              "#f0f921"
             ]
            ],
            "type": "histogram2d"
           }
          ],
          "histogram2dcontour": [
           {
            "colorbar": {
             "outlinewidth": 0,
             "ticks": ""
            },
            "colorscale": [
             [
              0,
              "#0d0887"
             ],
             [
              0.1111111111111111,
              "#46039f"
             ],
             [
              0.2222222222222222,
              "#7201a8"
             ],
             [
              0.3333333333333333,
              "#9c179e"
             ],
             [
              0.4444444444444444,
              "#bd3786"
             ],
             [
              0.5555555555555556,
              "#d8576b"
             ],
             [
              0.6666666666666666,
              "#ed7953"
             ],
             [
              0.7777777777777778,
              "#fb9f3a"
             ],
             [
              0.8888888888888888,
              "#fdca26"
             ],
             [
              1,
              "#f0f921"
             ]
            ],
            "type": "histogram2dcontour"
           }
          ],
          "mesh3d": [
           {
            "colorbar": {
             "outlinewidth": 0,
             "ticks": ""
            },
            "type": "mesh3d"
           }
          ],
          "parcoords": [
           {
            "line": {
             "colorbar": {
              "outlinewidth": 0,
              "ticks": ""
             }
            },
            "type": "parcoords"
           }
          ],
          "pie": [
           {
            "automargin": true,
            "type": "pie"
           }
          ],
          "scatter": [
           {
            "fillpattern": {
             "fillmode": "overlay",
             "size": 10,
             "solidity": 0.2
            },
            "type": "scatter"
           }
          ],
          "scatter3d": [
           {
            "line": {
             "colorbar": {
              "outlinewidth": 0,
              "ticks": ""
             }
            },
            "marker": {
             "colorbar": {
              "outlinewidth": 0,
              "ticks": ""
             }
            },
            "type": "scatter3d"
           }
          ],
          "scattercarpet": [
           {
            "marker": {
             "colorbar": {
              "outlinewidth": 0,
              "ticks": ""
             }
            },
            "type": "scattercarpet"
           }
          ],
          "scattergeo": [
           {
            "marker": {
             "colorbar": {
              "outlinewidth": 0,
              "ticks": ""
             }
            },
            "type": "scattergeo"
           }
          ],
          "scattergl": [
           {
            "marker": {
             "colorbar": {
              "outlinewidth": 0,
              "ticks": ""
             }
            },
            "type": "scattergl"
           }
          ],
          "scattermap": [
           {
            "marker": {
             "colorbar": {
              "outlinewidth": 0,
              "ticks": ""
             }
            },
            "type": "scattermap"
           }
          ],
          "scattermapbox": [
           {
            "marker": {
             "colorbar": {
              "outlinewidth": 0,
              "ticks": ""
             }
            },
            "type": "scattermapbox"
           }
          ],
          "scatterpolar": [
           {
            "marker": {
             "colorbar": {
              "outlinewidth": 0,
              "ticks": ""
             }
            },
            "type": "scatterpolar"
           }
          ],
          "scatterpolargl": [
           {
            "marker": {
             "colorbar": {
              "outlinewidth": 0,
              "ticks": ""
             }
            },
            "type": "scatterpolargl"
           }
          ],
          "scatterternary": [
           {
            "marker": {
             "colorbar": {
              "outlinewidth": 0,
              "ticks": ""
             }
            },
            "type": "scatterternary"
           }
          ],
          "surface": [
           {
            "colorbar": {
             "outlinewidth": 0,
             "ticks": ""
            },
            "colorscale": [
             [
              0,
              "#0d0887"
             ],
             [
              0.1111111111111111,
              "#46039f"
             ],
             [
              0.2222222222222222,
              "#7201a8"
             ],
             [
              0.3333333333333333,
              "#9c179e"
             ],
             [
              0.4444444444444444,
              "#bd3786"
             ],
             [
              0.5555555555555556,
              "#d8576b"
             ],
             [
              0.6666666666666666,
              "#ed7953"
             ],
             [
              0.7777777777777778,
              "#fb9f3a"
             ],
             [
              0.8888888888888888,
              "#fdca26"
             ],
             [
              1,
              "#f0f921"
             ]
            ],
            "type": "surface"
           }
          ],
          "table": [
           {
            "cells": {
             "fill": {
              "color": "#EBF0F8"
             },
             "line": {
              "color": "white"
             }
            },
            "header": {
             "fill": {
              "color": "#C8D4E3"
             },
             "line": {
              "color": "white"
             }
            },
            "type": "table"
           }
          ]
         },
         "layout": {
          "annotationdefaults": {
           "arrowcolor": "#2a3f5f",
           "arrowhead": 0,
           "arrowwidth": 1
          },
          "autotypenumbers": "strict",
          "coloraxis": {
           "colorbar": {
            "outlinewidth": 0,
            "ticks": ""
           }
          },
          "colorscale": {
           "diverging": [
            [
             0,
             "#8e0152"
            ],
            [
             0.1,
             "#c51b7d"
            ],
            [
             0.2,
             "#de77ae"
            ],
            [
             0.3,
             "#f1b6da"
            ],
            [
             0.4,
             "#fde0ef"
            ],
            [
             0.5,
             "#f7f7f7"
            ],
            [
             0.6,
             "#e6f5d0"
            ],
            [
             0.7,
             "#b8e186"
            ],
            [
             0.8,
             "#7fbc41"
            ],
            [
             0.9,
             "#4d9221"
            ],
            [
             1,
             "#276419"
            ]
           ],
           "sequential": [
            [
             0,
             "#0d0887"
            ],
            [
             0.1111111111111111,
             "#46039f"
            ],
            [
             0.2222222222222222,
             "#7201a8"
            ],
            [
             0.3333333333333333,
             "#9c179e"
            ],
            [
             0.4444444444444444,
             "#bd3786"
            ],
            [
             0.5555555555555556,
             "#d8576b"
            ],
            [
             0.6666666666666666,
             "#ed7953"
            ],
            [
             0.7777777777777778,
             "#fb9f3a"
            ],
            [
             0.8888888888888888,
             "#fdca26"
            ],
            [
             1,
             "#f0f921"
            ]
           ],
           "sequentialminus": [
            [
             0,
             "#0d0887"
            ],
            [
             0.1111111111111111,
             "#46039f"
            ],
            [
             0.2222222222222222,
             "#7201a8"
            ],
            [
             0.3333333333333333,
             "#9c179e"
            ],
            [
             0.4444444444444444,
             "#bd3786"
            ],
            [
             0.5555555555555556,
             "#d8576b"
            ],
            [
             0.6666666666666666,
             "#ed7953"
            ],
            [
             0.7777777777777778,
             "#fb9f3a"
            ],
            [
             0.8888888888888888,
             "#fdca26"
            ],
            [
             1,
             "#f0f921"
            ]
           ]
          },
          "colorway": [
           "#636efa",
           "#EF553B",
           "#00cc96",
           "#ab63fa",
           "#FFA15A",
           "#19d3f3",
           "#FF6692",
           "#B6E880",
           "#FF97FF",
           "#FECB52"
          ],
          "font": {
           "color": "#2a3f5f"
          },
          "geo": {
           "bgcolor": "white",
           "lakecolor": "white",
           "landcolor": "#E5ECF6",
           "showlakes": true,
           "showland": true,
           "subunitcolor": "white"
          },
          "hoverlabel": {
           "align": "left"
          },
          "hovermode": "closest",
          "mapbox": {
           "style": "light"
          },
          "paper_bgcolor": "white",
          "plot_bgcolor": "#E5ECF6",
          "polar": {
           "angularaxis": {
            "gridcolor": "white",
            "linecolor": "white",
            "ticks": ""
           },
           "bgcolor": "#E5ECF6",
           "radialaxis": {
            "gridcolor": "white",
            "linecolor": "white",
            "ticks": ""
           }
          },
          "scene": {
           "xaxis": {
            "backgroundcolor": "#E5ECF6",
            "gridcolor": "white",
            "gridwidth": 2,
            "linecolor": "white",
            "showbackground": true,
            "ticks": "",
            "zerolinecolor": "white"
           },
           "yaxis": {
            "backgroundcolor": "#E5ECF6",
            "gridcolor": "white",
            "gridwidth": 2,
            "linecolor": "white",
            "showbackground": true,
            "ticks": "",
            "zerolinecolor": "white"
           },
           "zaxis": {
            "backgroundcolor": "#E5ECF6",
            "gridcolor": "white",
            "gridwidth": 2,
            "linecolor": "white",
            "showbackground": true,
            "ticks": "",
            "zerolinecolor": "white"
           }
          },
          "shapedefaults": {
           "line": {
            "color": "#2a3f5f"
           }
          },
          "ternary": {
           "aaxis": {
            "gridcolor": "white",
            "linecolor": "white",
            "ticks": ""
           },
           "baxis": {
            "gridcolor": "white",
            "linecolor": "white",
            "ticks": ""
           },
           "bgcolor": "#E5ECF6",
           "caxis": {
            "gridcolor": "white",
            "linecolor": "white",
            "ticks": ""
           }
          },
          "title": {
           "x": 0.05
          },
          "xaxis": {
           "automargin": true,
           "gridcolor": "white",
           "linecolor": "white",
           "ticks": "",
           "title": {
            "standoff": 15
           },
           "zerolinecolor": "white",
           "zerolinewidth": 2
          },
          "yaxis": {
           "automargin": true,
           "gridcolor": "white",
           "linecolor": "white",
           "ticks": "",
           "title": {
            "standoff": 15
           },
           "zerolinecolor": "white",
           "zerolinewidth": 2
          }
         }
        },
        "title": {
         "text": "ROC-like Plot for Model Comparison"
        },
        "width": 1000,
        "xaxis": {
         "range": [
          -0.1,
          1.1
         ],
         "title": {
          "text": "False Positive Rate"
         }
        },
        "yaxis": {
         "range": [
          -0.1,
          1.2
         ],
         "title": {
          "text": "True Positive Rate"
         }
        }
       }
      }
     },
     "metadata": {},
     "output_type": "display_data"
    }
   ],
   "source": [
    "# ROC-like visualization\n",
    "fig_roc = go.Figure()\n",
    "\n",
    "# Updated model colors dictionary with all models\n",
    "model_colors = {\n",
    "    \"KNN\": \"#4285F4\",\n",
    "    \"SVM\": \"#34A853\",\n",
    "    \"SVM No PCA\": \"#FF6B6B\",\n",
    "    \"Random Forest\": \"#EA4335\",\n",
    "    \"MobileNetV2\": \"#8E44AD\",\n",
    "    \"ResNet\": \"#F57C00\",\n",
    "    \"EfficientNet\": \"#00BCD4\",\n",
    "    \"CNN Torch\": \"#9C27B0\",\n",
    "}\n",
    "\n",
    "# Different text positions to avoid overlap\n",
    "text_positions = [\n",
    "    \"top center\",\n",
    "    \"bottom center\",\n",
    "    \"middle left\",\n",
    "    \"middle right\",\n",
    "    \"top left\",\n",
    "    \"top right\",\n",
    "    \"bottom left\",\n",
    "]\n",
    "\n",
    "for i, model in enumerate(all_results):\n",
    "    if all(key in model for key in [\"fp\", \"tn\", \"tp\", \"fn\"]):\n",
    "        fpr = (\n",
    "            model[\"fp\"] / (model[\"fp\"] + model[\"tn\"])\n",
    "            if (model[\"fp\"] + model[\"tn\"]) > 0\n",
    "            else 0\n",
    "        )\n",
    "        tpr = (\n",
    "            model[\"tp\"] / (model[\"tp\"] + model[\"fn\"])\n",
    "            if (model[\"tp\"] + model[\"fn\"]) > 0\n",
    "            else 0\n",
    "        )\n",
    "\n",
    "        fig_roc.add_trace(\n",
    "            go.Scatter(\n",
    "                x=[fpr],\n",
    "                y=[tpr],\n",
    "                mode=\"markers+text\",\n",
    "                marker=dict(size=15, color=model_colors.get(model[\"model\"], \"#8E44AD\")),\n",
    "                text=[model[\"model\"]],\n",
    "                textposition=text_positions[i % len(text_positions)],\n",
    "                textfont=dict(size=10),\n",
    "                showlegend=False,\n",
    "            )\n",
    "        )\n",
    "\n",
    "# Add diagonal line for reference\n",
    "fig_roc.add_trace(\n",
    "    go.Scatter(\n",
    "        x=[0, 1],\n",
    "        y=[0, 1],\n",
    "        mode=\"lines\",\n",
    "        line=dict(dash=\"dash\", color=\"gray\"),\n",
    "        name=\"Random Classifier\",\n",
    "        showlegend=True,\n",
    "    )\n",
    ")\n",
    "\n",
    "fig_roc.update_layout(\n",
    "    title=\"ROC-like Plot for Model Comparison\",\n",
    "    xaxis_title=\"False Positive Rate\",\n",
    "    yaxis_title=\"True Positive Rate\",\n",
    "    plot_bgcolor=\"white\",\n",
    "    font=dict(size=12),\n",
    "    width=1000,\n",
    "    height=800,\n",
    "    margin=dict(l=100, r=100, t=150, b=100),\n",
    "    xaxis=dict(range=[-0.1, 1.1]),\n",
    "    yaxis=dict(range=[-0.1, 1.2]),\n",
    ")\n",
    "\n",
    "fig_roc.show()"
   ]
  },
  {
   "cell_type": "code",
   "execution_count": null,
   "id": "04a48e1f",
   "metadata": {},
   "outputs": [
    {
     "name": "stdout",
     "output_type": "stream",
     "text": [
      "\n",
      "Model Performance Conclusions:\n",
      "Best Accuracy: EfficientNet (0.9875)\n",
      "Best Precision: EfficientNet (0.9948)\n",
      "Best Recall: Random Forest (0.9923)\n",
      "Best F1-Score: EfficientNet (0.9917)\n",
      "\n",
      "Recommended model based on F1-Score: EfficientNet\n",
      "\n",
      "Detailed Analysis:\n",
      "Number of models successfully analyzed: 9\n",
      "KNN: TP=386, TN=96, FP=138, FN=4\n",
      "SVM: TP=382, TN=113, FP=121, FN=8\n",
      "SVM No PCA: TP=386, TN=92, FP=142, FN=4\n",
      "Random Forest: TP=387, TN=64, FP=170, FN=3\n",
      "ResNet: TP=360, TN=195, FP=39, FN=30\n",
      "EfficientNet: TP=772, TN=259, FP=4, FN=9\n",
      "MobileNetV2: TP=379, TN=130, FP=104, FN=11\n",
      "CNN Torch: TP=325, TN=218, FP=16, FN=65\n",
      "CNN Vanilla: TP=373, TN=134, FP=100, FN=17\n"
     ]
    }
   ],
   "source": [
    "# Identify best model for each metric\n",
    "best_models = {}\n",
    "metrics = [\"Accuracy\", \"Precision\", \"Recall\", \"F1-Score\"]\n",
    "for metric in metrics:\n",
    "    best_idx = comparison_df[metric].idxmax()\n",
    "    best_models[metric] = {\n",
    "        \"Model\": comparison_df.loc[best_idx, \"Model\"],\n",
    "        \"Score\": comparison_df.loc[best_idx, metric],\n",
    "    }\n",
    "\n",
    "# Print conclusions\n",
    "print(\"\\nModel Performance Conclusions:\")\n",
    "for metric, result in best_models.items():\n",
    "    print(f\"Best {metric}: {result['Model']} ({result['Score']:.4f})\")\n",
    "\n",
    "# Overall recommendation based on F1-Score (balanced metric)\n",
    "best_f1_model = best_models[\"F1-Score\"][\"Model\"]\n",
    "print(f\"\\nRecommended model based on F1-Score: {best_f1_model}\")\n",
    "\n",
    "# Additional analysis\n",
    "print(f\"\\nDetailed Analysis:\")\n",
    "print(f\"Number of models successfully analyzed: {len(all_results)}\")\n",
    "for result in all_results:\n",
    "    print(\n",
    "        f\"{result['model']}: TP={result['tp']}, TN={result['tn']}, FP={result['fp']}, FN={result['fn']}\"\n",
    "    )"
   ]
  }
 ],
 "metadata": {
  "kernelspec": {
   "display_name": "Python 3",
   "language": "python",
   "name": "python3"
  },
  "language_info": {
   "codemirror_mode": {
    "name": "ipython",
    "version": 3
   },
   "file_extension": ".py",
   "mimetype": "text/x-python",
   "name": "python",
   "nbconvert_exporter": "python",
   "pygments_lexer": "ipython3",
   "version": "3.11.11"
  }
 },
 "nbformat": 4,
 "nbformat_minor": 5
}
