{
 "cells": [
  {
   "cell_type": "code",
   "execution_count": null,
   "id": "c321be9c",
   "metadata": {},
   "outputs": [
    {
     "name": "stdout",
     "output_type": "stream",
     "text": [
      "Loading training data...\n"
     ]
    },
    {
     "name": "stderr",
     "output_type": "stream",
     "text": [
      "Loading NORMAL from ./chest_Xray\\train\\NORMAL:   0%|          | 0/1342 [00:00<?, ?it/s]"
     ]
    },
    {
     "name": "stderr",
     "output_type": "stream",
     "text": [
      "Loading NORMAL from ./chest_Xray\\train\\NORMAL: 100%|██████████| 1342/1342 [01:02<00:00, 21.63it/s]\n",
      "Loading PNEUMONIA from ./chest_Xray\\train\\PNEUMONIA: 100%|██████████| 3876/3876 [00:48<00:00, 79.97it/s] \n"
     ]
    },
    {
     "name": "stdout",
     "output_type": "stream",
     "text": [
      "Loading validation data...\n"
     ]
    },
    {
     "name": "stderr",
     "output_type": "stream",
     "text": [
      "Loading NORMAL from ./chest_Xray\\val\\NORMAL: 100%|██████████| 9/9 [00:00<00:00, 41.71it/s]\n",
      "Loading PNEUMONIA from ./chest_Xray\\val\\PNEUMONIA: 100%|██████████| 9/9 [00:00<00:00, 124.49it/s]\n"
     ]
    },
    {
     "name": "stdout",
     "output_type": "stream",
     "text": [
      "Loading test data...\n"
     ]
    },
    {
     "name": "stderr",
     "output_type": "stream",
     "text": [
      "Loading NORMAL from ./chest_Xray\\test\\NORMAL: 100%|██████████| 234/234 [00:05<00:00, 39.58it/s]\n",
      "Loading PNEUMONIA from ./chest_Xray\\test\\PNEUMONIA: 100%|██████████| 390/390 [00:03<00:00, 100.82it/s]\n"
     ]
    },
    {
     "name": "stdout",
     "output_type": "stream",
     "text": [
      "Combined training set size: 5232\n",
      "Training KNN classifier...\n",
      "Making predictions on test set...\n",
      "\n",
      "Test set accuracy: 0.7420\n",
      "\n",
      "Classification Report:\n",
      "              precision    recall  f1-score   support\n",
      "\n",
      "      NORMAL       0.97      0.32      0.48       234\n",
      "   PNEUMONIA       0.71      0.99      0.83       390\n",
      "\n",
      "    accuracy                           0.74       624\n",
      "   macro avg       0.84      0.66      0.66       624\n",
      "weighted avg       0.81      0.74      0.70       624\n",
      "\n"
     ]
    },
    {
     "data": {
      "image/png": "[encoded data removed]",
      "text/plain": [
       "<Figure size 800x600 with 2 Axes>"
      ]
     },
     "metadata": {},
     "output_type": "display_data"
    },
    {
     "name": "stdout",
     "output_type": "stream",
     "text": [
      "\n",
      "Validation set performance:\n",
      "Validation accuracy: 0.6250\n",
      "              precision    recall  f1-score   support\n",
      "\n",
      "      NORMAL       1.00      0.25      0.40         8\n",
      "   PNEUMONIA       0.57      1.00      0.73         8\n",
      "\n",
      "    accuracy                           0.62        16\n",
      "   macro avg       0.79      0.62      0.56        16\n",
      "weighted avg       0.79      0.62      0.56        16\n",
      "\n",
      "\n",
      "Results saved to: ./results_knn_nopca\n"
     ]
    }
   ],
   "source": [
    "import os\n",
    "import cv2\n",
    "import numpy as np\n",
    "from sklearn.neighbors import KNeighborsClassifier\n",
    "from matplotlib import pyplot as plt\n",
    "from sklearn.metrics import (\n",
    "    classification_report,\n",
    "    confusion_matrix,\n",
    "    ConfusionMatrixDisplay,\n",
    ")\n",
    "from tqdm import tqdm\n",
    "\n",
    "# CONFIGURATION\n",
    "IMG_SIZE = 64\n",
    "CATEGORIES = [\"NORMAL\", \"PNEUMONIA\"]\n",
    "DATASET_DIR = \"./chest_Xray\"\n",
    "RESULTS_DIR = \"./results_knn_nopca\"\n",
    "os.makedirs(RESULTS_DIR, exist_ok=True)\n",
    "\n",
    "# DATA LOADING\n",
    "def load_images_from_folder(folder, label):\n",
    "    images = []\n",
    "    labels = []\n",
    "    for filename in tqdm(os.listdir(folder)):\n",
    "        img_path = os.path.join(folder, filename)\n",
    "        img = cv2.imread(img_path, cv2.IMREAD_GRAYSCALE)\n",
    "        if img is not None:\n",
    "            img = cv2.resize(img, (IMG_SIZE, IMG_SIZE))\n",
    "            images.append(img)\n",
    "            labels.append(label)\n",
    "    return images, labels\n",
    "\n",
    "# Load training data\n",
    "print(\"Loading training data...\")\n",
    "X_train_list, y_train_list = [], []\n",
    "for idx, category in enumerate(CATEGORIES):\n",
    "    folder_path = os.path.join(DATASET_DIR, \"train\", category)\n",
    "    images, labels = load_images_from_folder(folder_path, idx)\n",
    "    X_train_list.extend(images)\n",
    "    y_train_list.extend(labels)\n",
    "\n",
    "# Load validation data\n",
    "print(\"Loading validation data...\")\n",
    "X_val_list, y_val_list = [], []\n",
    "for idx, category in enumerate(CATEGORIES):\n",
    "    folder_path = os.path.join(DATASET_DIR, \"val\", category)\n",
    "    images, labels = load_images_from_folder(folder_path, idx)\n",
    "    X_val_list.extend(images)\n",
    "    y_val_list.extend(labels)\n",
    "\n",
    "# Load test data\n",
    "print(\"Loading test data...\")\n",
    "X_test_list, y_test_list = [], []\n",
    "for idx, category in enumerate(CATEGORIES):\n",
    "    folder_path = os.path.join(DATASET_DIR, \"test\", category)\n",
    "    images, labels = load_images_from_folder(folder_path, idx)\n",
    "    X_test_list.extend(images)\n",
    "    y_test_list.extend(labels)\n",
    "\n",
    "# Sanity check\n",
    "if len(X_train_list) == 0:\n",
    "    raise RuntimeError(\"No training images loaded. Check the dataset paths.\")\n",
    "if len(X_test_list) == 0:\n",
    "    raise RuntimeError(\"No test images loaded. Check the dataset paths.\")\n",
    "\n",
    "# PREPROCESSING\n",
    "X_train = np.array(X_train_list).reshape(len(X_train_list), -1)\n",
    "y_train = np.array(y_train_list)\n",
    "\n",
    "X_val = np.array(X_val_list).reshape(len(X_val_list), -1) if X_val_list else None\n",
    "y_val = np.array(y_val_list) if y_val_list else None\n",
    "\n",
    "X_test = np.array(X_test_list).reshape(len(X_test_list), -1)\n",
    "y_test = np.array(y_test_list)\n",
    "\n",
    "# Combine training and validation sets\n",
    "if X_val is not None and y_val is not None:\n",
    "    X_train = np.vstack([X_train, X_val])\n",
    "    y_train = np.hstack([y_train, y_val])\n",
    "    print(f\"Combined training set size: {len(X_train)}\")\n",
    "\n",
    "# TRAINING\n",
    "print(\"Training KNN classifier...\")\n",
    "knn = KNeighborsClassifier(n_neighbors=5)\n",
    "knn.fit(X_train, y_train)\n",
    "\n",
    "# EVALUATION\n",
    "print(\"Making predictions on test set...\")\n",
    "y_pred = knn.predict(X_test)\n",
    "\n",
    "# Test accuracy\n",
    "test_accuracy = knn.score(X_test, y_test)\n",
    "print(f\"\\nTest set accuracy: {test_accuracy:.4f}\")\n",
    "\n",
    "# Classification report\n",
    "print(\"\\nClassification Report:\")\n",
    "report = classification_report(y_test, y_pred, target_names=CATEGORIES)\n",
    "print(report)\n",
    "\n",
    "# Save classification report\n",
    "with open(os.path.join(RESULTS_DIR, \"classification_report.txt\"), \"w\") as f:\n",
    "    f.write(f\"Test set accuracy: {test_accuracy:.4f}\\n\\n\")\n",
    "    f.write(report)\n",
    "\n",
    "# Confusion Matrix\n",
    "cm = confusion_matrix(y_test, y_pred)\n",
    "disp = ConfusionMatrixDisplay(confusion_matrix=cm, display_labels=CATEGORIES)\n",
    "fig, ax = plt.subplots(figsize=(8, 6))\n",
    "disp.plot(cmap=plt.cm.Blues, ax=ax)\n",
    "plt.title(\"Confusion Matrix - KNN Classifier\")\n",
    "plt.savefig(os.path.join(RESULTS_DIR, \"confusion_matrix_knn.png\"), dpi=300, bbox_inches='tight')\n",
    "plt.show()\n",
    "\n",
    "\n",
    "if X_val is not None and len(X_val) > 0:\n",
    "    print(\"\\nValidation set performance:\")\n",
    "    y_val_pred = knn.predict(X_val)\n",
    "    val_accuracy = knn.score(X_val, y_val)\n",
    "    print(f\"Validation accuracy: {val_accuracy:.4f}\")\n",
    "    \n",
    "    val_report = classification_report(y_val, y_val_pred, target_names=CATEGORIES)\n",
    "    print(val_report)\n",
    "\n",
    "print(f\"\\nResults saved to: {RESULTS_DIR}\")"
   ]
  }
 ],
 "metadata": {
  "kernelspec": {
   "display_name": "Python 3",
   "language": "python",
   "name": "python3"
  },
  "language_info": {
   "codemirror_mode": {
    "name": "ipython",
    "version": 3
   },
   "file_extension": ".py",
   "mimetype": "text/x-python",
   "name": "python",
   "nbconvert_exporter": "python",
   "pygments_lexer": "ipython3",
   "version": "3.11.11"
  }
 },
 "nbformat": 4,
 "nbformat_minor": 5
}
