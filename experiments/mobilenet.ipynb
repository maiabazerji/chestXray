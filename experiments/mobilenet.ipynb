{
 "cells": [
  {
   "cell_type": "code",
   "execution_count": 4,
   "id": "06f9b2e5",
   "metadata": {},
   "outputs": [
    {
     "name": "stdout",
     "output_type": "stream",
     "text": [
      "Train: 4172 | Val: 1044 | Test: 624\n"
     ]
    }
   ],
   "source": [
    "from torch.utils.data import random_split, DataLoader\n",
    "from torchvision import datasets, transforms, models\n",
    "from torchvision.models import MobileNet_V2_Weights\n",
    "import torch\n",
    "import torch.nn as nn\n",
    "import torch.optim as optim\n",
    "import matplotlib.pyplot as plt\n",
    "import numpy as np\n",
    "from sklearn.metrics import accuracy_score, classification_report, confusion_matrix, f1_score\n",
    "import optuna\n",
    "\n",
    "transform = transforms.Compose([\n",
    "    transforms.Resize((128, 128)),\n",
    "    transforms.ToTensor()\n",
    "])\n",
    "\n",
    "full_train_data = datasets.ImageFolder(\"chest_Xray/train\", transform=transform)\n",
    "train_size = int(0.8 * len(full_train_data))\n",
    "val_size = len(full_train_data) - train_size\n",
    "train_data, val_data = random_split(full_train_data, [train_size, val_size])\n",
    "\n",
    "train_loader = DataLoader(train_data, batch_size=32, shuffle=True)\n",
    "val_loader = DataLoader(val_data, batch_size=32, shuffle=False)\n",
    "\n",
    "test_data = datasets.ImageFolder(\"chest_Xray/test\", transform=transform)\n",
    "test_loader = DataLoader(test_data, batch_size=32, shuffle=False)\n",
    "\n",
    "print(f\"Train: {len(train_data)} | Val: {len(val_data)} | Test: {len(test_data)}\")"
   ]
  },
  {
   "cell_type": "code",
   "execution_count": 5,
   "id": "a7efec26",
   "metadata": {},
   "outputs": [],
   "source": [
    "def create_model(trial):\n",
    "    weights = MobileNet_V2_Weights.DEFAULT\n",
    "    model = models.mobilenet_v2(weights=weights)\n",
    "    for param in model.features.parameters():\n",
    "        param.requires_grad = False\n",
    "    num_features = model.classifier[1].in_features\n",
    "    dropout_rate = trial.suggest_float(\"dropout_rate\", 0.1, 0.5)\n",
    "    model.classifier = nn.Sequential(\n",
    "        nn.Dropout(p=dropout_rate),\n",
    "        nn.Linear(num_features, 2)\n",
    "    )\n",
    "    return model"
   ]
  },
  {
   "cell_type": "code",
   "execution_count": 6,
   "id": "ec3f4924",
   "metadata": {},
   "outputs": [],
   "source": [
    "def objective(trial):\n",
    "    device = torch.device(\"cuda\" if torch.cuda.is_available() else \"cpu\")\n",
    "    model = create_model(trial).to(device)\n",
    "    \n",
    "    lr = trial.suggest_float(\"lr\", 1e-5, 1e-2, log=True)\n",
    "    optimizer_name = trial.suggest_categorical(\"optimizer\", [\"Adam\", \"SGD\"])\n",
    "    criterion = nn.CrossEntropyLoss()\n",
    "    optimizer = getattr(optim, optimizer_name)(model.parameters(), lr=lr)\n",
    "    \n",
    "    for epoch in range(5): \n",
    "        model.train()\n",
    "        for inputs, labels in train_loader:\n",
    "            inputs, labels = inputs.to(device), labels.to(device)\n",
    "            optimizer.zero_grad()\n",
    "            outputs = model(inputs)\n",
    "            loss = criterion(outputs, labels)\n",
    "            loss.backward()\n",
    "            optimizer.step()\n",
    "    \n",
    "    y_true, y_pred = [], []\n",
    "    model.eval()\n",
    "    with torch.no_grad():\n",
    "        for inputs, labels in val_loader:\n",
    "            inputs, labels = inputs.to(device), labels.to(device)\n",
    "            outputs = model(inputs)\n",
    "            _, predicted = torch.max(outputs.data, 1)\n",
    "            y_true.extend(labels.cpu().numpy())\n",
    "            y_pred.extend(predicted.cpu().numpy())\n",
    "    \n",
    "    return f1_score(y_true, y_pred, pos_label=1)"
   ]
  },
  {
   "cell_type": "code",
   "execution_count": 7,
   "id": "ae324175",
   "metadata": {},
   "outputs": [
    {
     "name": "stderr",
     "output_type": "stream",
     "text": [
      "[I 2025-05-31 12:52:46,354] A new study created in RDB with name: mobilenet_cnn_f1\n",
      "[I 2025-05-31 13:21:57,315] Trial 0 finished with value: 0.8390022675736961 and parameters: {'dropout_rate': 0.21214140079334945, 'lr': 0.00023852822444161834, 'optimizer': 'SGD'}. Best is trial 0 with value: 0.8390022675736961.\n",
      "[I 2025-05-31 13:51:13,930] Trial 1 finished with value: 0.9602693602693603 and parameters: {'dropout_rate': 0.34458684674443557, 'lr': 0.00045633290820420053, 'optimizer': 'Adam'}. Best is trial 1 with value: 0.9602693602693603.\n",
      "[I 2025-05-31 14:19:34,041] Trial 2 finished with value: 0.8484149855907781 and parameters: {'dropout_rate': 0.21196848622491216, 'lr': 7.940224497072515e-05, 'optimizer': 'SGD'}. Best is trial 1 with value: 0.9602693602693603.\n",
      "[I 2025-05-31 14:42:15,889] Trial 3 finished with value: 0.9646430953969313 and parameters: {'dropout_rate': 0.38062634376609206, 'lr': 0.003968452590508034, 'optimizer': 'Adam'}. Best is trial 3 with value: 0.9646430953969313.\n",
      "[I 2025-05-31 14:52:23,904] Trial 4 finished with value: 0.9417989417989417 and parameters: {'dropout_rate': 0.4089762090182628, 'lr': 0.0014738510430317864, 'optimizer': 'SGD'}. Best is trial 3 with value: 0.9646430953969313.\n"
     ]
    }
   ],
   "source": [
    "study = optuna.create_study(\n",
    "    direction=\"maximize\",\n",
    "    study_name=\"mobilenet_cnn_f1\",\n",
    "    storage=\"sqlite:///optuna_mobilenet_f1.db\",\n",
    "    load_if_exists=True\n",
    ")\n",
    "\n",
    "if len([t for t in study.trials if t.state.name == \"COMPLETE\"]) >= 20:\n",
    "    print(\"Assez de trials déjà faits, on saute l'optimisation.\")\n",
    "else:\n",
    "    study.optimize(objective, n_trials=5)"
   ]
  },
  {
   "cell_type": "code",
   "execution_count": 8,
   "id": "4f499ead",
   "metadata": {},
   "outputs": [
    {
     "name": "stdout",
     "output_type": "stream",
     "text": [
      "Best hyperparameters: {'dropout_rate': 0.38062634376609206, 'lr': 0.003968452590508034, 'optimizer': 'Adam'}\n",
      "Epoch 1 - Loss: 39.8317\n",
      "Epoch 2 - Loss: 33.5618\n",
      "Epoch 3 - Loss: 27.6634\n",
      "Epoch 4 - Loss: 27.6559\n",
      "Epoch 5 - Loss: 30.1855\n",
      "Epoch 6 - Loss: 28.5610\n",
      "Epoch 7 - Loss: 28.6137\n",
      "Epoch 8 - Loss: 28.8078\n",
      "Epoch 9 - Loss: 27.7272\n",
      "Epoch 10 - Loss: 31.4762\n"
     ]
    },
    {
     "data": {
      "image/png": "[encoded data removed]",
      "text/plain": [
       "<Figure size 640x480 with 1 Axes>"
      ]
     },
     "metadata": {},
     "output_type": "display_data"
    }
   ],
   "source": [
    "trial = study.best_trial\n",
    "print(\"Best hyperparameters:\", trial.params)\n",
    "\n",
    "device = torch.device(\"cuda\" if torch.cuda.is_available() else \"cpu\")\n",
    "best_model = create_model(trial).to(device)\n",
    "\n",
    "full_loader = DataLoader(full_train_data, batch_size=32, shuffle=True)\n",
    "criterion = nn.CrossEntropyLoss()\n",
    "optimizer = getattr(optim, trial.params[\"optimizer\"])(best_model.parameters(), lr=trial.params[\"lr\"])\n",
    "losses = []\n",
    "\n",
    "for epoch in range(10):\n",
    "    best_model.train()\n",
    "    total_loss = 0.0\n",
    "    for inputs, labels in full_loader:\n",
    "        inputs, labels = inputs.to(device), labels.to(device)\n",
    "        optimizer.zero_grad()\n",
    "        outputs = best_model(inputs)\n",
    "        loss = criterion(outputs, labels)\n",
    "        loss.backward()\n",
    "        optimizer.step()\n",
    "        total_loss += loss.item()\n",
    "    losses.append(total_loss)\n",
    "    print(f\"Epoch {epoch+1} - Loss: {total_loss:.4f}\")\n",
    "\n",
    "plt.plot(range(1, 11), losses)\n",
    "plt.xlabel(\"Époque\")\n",
    "plt.ylabel(\"Perte totale\")\n",
    "plt.title(\"Courbe de perte pendant l'entraînement\")\n",
    "plt.grid(True)\n",
    "plt.show()"
   ]
  },
  {
   "cell_type": "code",
   "execution_count": 9,
   "id": "0b5d42b6",
   "metadata": {},
   "outputs": [
    {
     "name": "stdout",
     "output_type": "stream",
     "text": [
      "\n",
      "--- Évaluation finale sur les données de test ---\n",
      "Accuracy: 0.8157\n",
      "Classification Report:\n",
      "               precision    recall  f1-score   support\n",
      "\n",
      "      NORMAL       0.92      0.56      0.69       234\n",
      "   PNEUMONIA       0.78      0.97      0.87       390\n",
      "\n",
      "    accuracy                           0.82       624\n",
      "   macro avg       0.85      0.76      0.78       624\n",
      "weighted avg       0.84      0.82      0.80       624\n",
      "\n",
      "Confusion Matrix:\n",
      " [[130 104]\n",
      " [ 11 379]]\n"
     ]
    }
   ],
   "source": [
    "def evaluate_on_test(model, test_loader):\n",
    "    device = torch.device(\"cuda\" if torch.cuda.is_available() else \"cpu\")\n",
    "    model.eval()\n",
    "    y_true, y_pred = [], []\n",
    "    with torch.no_grad():\n",
    "        for inputs, labels in test_loader:\n",
    "            inputs, labels = inputs.to(device), labels.to(device)\n",
    "            outputs = model(inputs)\n",
    "            _, predicted = torch.max(outputs, 1)\n",
    "            y_true.extend(labels.cpu().numpy())\n",
    "            y_pred.extend(predicted.cpu().numpy())\n",
    "    \n",
    "    print(\"\\n--- Évaluation finale sur les données de test ---\")\n",
    "    print(f\"Accuracy: {accuracy_score(y_true, y_pred):.4f}\")\n",
    "    print(\"Classification Report:\\n\", classification_report(y_true, y_pred, target_names=test_data.classes))\n",
    "    print(\"Confusion Matrix:\\n\", confusion_matrix(y_true, y_pred))\n",
    "\n",
    "evaluate_on_test(best_model, test_loader)"
   ]
  },
  {
   "cell_type": "code",
   "execution_count": 12,
   "id": "ab8bf9d5",
   "metadata": {},
   "outputs": [
    {
     "data": {
      "image/png": "[encoded data removed]",
      "text/plain": [
       "<Figure size 800x600 with 2 Axes>"
      ]
     },
     "metadata": {},
     "output_type": "display_data"
    },
    {
     "name": "stdout",
     "output_type": "stream",
     "text": [
      "Results saved to parquet files in the 'results_mobilenet' directory\n"
     ]
    }
   ],
   "source": [
    "import seaborn as sns\n",
    "import pandas as pd\n",
    "from sklearn.metrics import confusion_matrix, classification_report\n",
    "import os\n",
    "\n",
    "import matplotlib.pyplot as plt\n",
    "\n",
    "# Function to evaluate and save results\n",
    "def evaluate_and_save_results(model, data_loader, save_path='results_mobilenet'):\n",
    "    device = torch.device(\"cuda\" if torch.cuda.is_available() else \"cpu\")\n",
    "    model.eval()\n",
    "    y_true, y_pred = [], []\n",
    "    \n",
    "    with torch.no_grad():\n",
    "        for inputs, labels in data_loader:\n",
    "            inputs, labels = inputs.to(device), labels.to(device)\n",
    "            outputs = model(inputs)\n",
    "            _, predicted = torch.max(outputs, 1)\n",
    "            y_true.extend(labels.cpu().numpy())\n",
    "            y_pred.extend(predicted.cpu().numpy())\n",
    "    \n",
    "    # Create and plot confusion matrix\n",
    "    cm = confusion_matrix(y_true, y_pred)\n",
    "    plt.figure(figsize=(8, 6))\n",
    "    sns.heatmap(cm, annot=True, fmt='d', cmap='Blues', \n",
    "                xticklabels=test_data.classes, \n",
    "                yticklabels=test_data.classes)\n",
    "    plt.xlabel('Predicted')\n",
    "    plt.ylabel('True')\n",
    "    plt.title('Confusion Matrix')\n",
    "    plt.tight_layout()\n",
    "    plt.savefig(f\"{save_path}/confusion_matrix.png\", dpi=300)\n",
    "    plt.show()\n",
    "    \n",
    "    # Create classification report dataframe\n",
    "    report = classification_report(y_true, y_pred, \n",
    "                                  target_names=test_data.classes, \n",
    "                                  output_dict=True)\n",
    "    report_df = pd.DataFrame(report).transpose()\n",
    "    \n",
    "    # Save reports as parquet\n",
    "    report_df.to_parquet(f\"{save_path}/classification_report.parquet\")\n",
    "    \n",
    "    # Also save confusion matrix as parquet\n",
    "    cm_df = pd.DataFrame(cm, \n",
    "                        index=test_data.classes,\n",
    "                        columns=test_data.classes)\n",
    "    cm_df.to_parquet(f\"{save_path}/confusion_matrix.parquet\")\n",
    "    \n",
    "    return report_df, cm_df\n",
    "\n",
    "# Create save directory if it doesn't exist\n",
    "os.makedirs(\"results_mobilenet\", exist_ok=True)\n",
    "\n",
    "# Run evaluation and save results\n",
    "report_df, cm_df = evaluate_and_save_results(best_model, test_loader)\n",
    "print(\"Results saved to parquet files in the 'results_mobilenet' directory\")"
   ]
  }
 ],
 "metadata": {
  "kernelspec": {
   "display_name": "Python 3",
   "language": "python",
   "name": "python3"
  },
  "language_info": {
   "codemirror_mode": {
    "name": "ipython",
    "version": 3
   },
   "file_extension": ".py",
   "mimetype": "text/x-python",
   "name": "python",
   "nbconvert_exporter": "python",
   "pygments_lexer": "ipython3",
   "version": "3.11.11"
  }
 },
 "nbformat": 4,
 "nbformat_minor": 5
}
