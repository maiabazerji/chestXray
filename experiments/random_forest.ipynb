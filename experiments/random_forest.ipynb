{
 "cells": [
  {
   "cell_type": "code",
   "execution_count": null,
   "id": "0be20b95",
   "metadata": {},
   "outputs": [],
   "source": [
    "import matplotlib.pyplot as plt\n",
    "import numpy as np\n",
    "import seaborn as sns\n",
    "import torch\n",
    "from sklearn.decomposition import PCA\n",
    "from sklearn.ensemble import RandomForestClassifier\n",
    "from sklearn.metrics import classification_report, confusion_matrix\n",
    "from sklearn.model_selection import GridSearchCV, cross_val_score\n",
    "from sklearn.pipeline import Pipeline\n",
    "from torch.utils.data import DataLoader\n",
    "from torchvision import datasets, transforms"
   ]
  },
  {
   "cell_type": "code",
   "execution_count": null,
   "id": "fbbd4a32",
   "metadata": {},
   "outputs": [],
   "source": [
    "transform = transforms.Compose(\n",
    "    [transforms.Grayscale(), transforms.Resize((64, 64)), transforms.ToTensor()]\n",
    ")"
   ]
  },
  {
   "cell_type": "code",
   "execution_count": 15,
   "id": "4d5c16cd",
   "metadata": {},
   "outputs": [],
   "source": [
    "train_data = datasets.ImageFolder(\"chest_Xray/train\", transform=transform)\n",
    "test_data = datasets.ImageFolder(\"chest_Xray/test\", transform=transform)\n",
    "\n",
    "train_loader = DataLoader(train_data, batch_size=32, shuffle=True)\n",
    "test_loader = DataLoader(test_data, batch_size=32, shuffle=False)"
   ]
  },
  {
   "cell_type": "code",
   "execution_count": null,
   "id": "d0835392",
   "metadata": {},
   "outputs": [],
   "source": [
    "def dataset_to_numpy(loader):\n",
    "    features, labels = [], []\n",
    "    for images, label in loader:\n",
    "        images = images.view(images.size(0), -1)\n",
    "        features.append(images.numpy())\n",
    "        labels.append(label.numpy())\n",
    "    return np.concatenate(features), np.concatenate(labels)\n",
    "\n",
    "\n",
    "X_train, y_train = dataset_to_numpy(train_loader)\n",
    "X_test, y_test = dataset_to_numpy(test_loader)"
   ]
  },
  {
   "cell_type": "code",
   "execution_count": null,
   "id": "21e09001",
   "metadata": {},
   "outputs": [
    {
     "name": "stdout",
     "output_type": "stream",
     "text": [
      "Fitting 5 folds for each of 1 candidates, totalling 5 fits\n",
      "Meilleurs paramètres : {'clf__max_depth': 10, 'clf__min_samples_split': 5, 'clf__n_estimators': 100}\n"
     ]
    }
   ],
   "source": [
    "pipeline = Pipeline([(\"pca\", PCA(n_components=50)), (\"clf\", RandomForestClassifier())])\n",
    "\n",
    "param_grid = {\n",
    "    \"clf__n_estimators\": [100],\n",
    "    \"clf__max_depth\": [10],\n",
    "    \"clf__min_samples_split\": [5],\n",
    "}\n",
    "\n",
    "grid_search = GridSearchCV(pipeline, param_grid, cv=5, n_jobs=-1, verbose=1)\n",
    "grid_search.fit(X_train, y_train)\n",
    "\n",
    "print(\"Meilleurs paramètres :\", grid_search.best_params_)"
   ]
  },
  {
   "cell_type": "code",
   "execution_count": null,
   "id": "e9e9d287",
   "metadata": {},
   "outputs": [
    {
     "name": "stdout",
     "output_type": "stream",
     "text": [
      "Classification report:\n",
      "               precision    recall  f1-score   support\n",
      "\n",
      "           0       0.96      0.27      0.43       234\n",
      "           1       0.69      0.99      0.82       390\n",
      "\n",
      "    accuracy                           0.72       624\n",
      "   macro avg       0.83      0.63      0.62       624\n",
      "weighted avg       0.79      0.72      0.67       624\n",
      "\n",
      "Confusion matrix:\n",
      " [[ 64 170]\n",
      " [  3 387]]\n"
     ]
    },
    {
     "data": {
      "image/png": "[encoded data removed]",
      "text/plain": [
       "<Figure size 600x400 with 2 Axes>"
      ]
     },
     "metadata": {},
     "output_type": "display_data"
    }
   ],
   "source": [
    "y_pred = grid_search.predict(X_test)\n",
    "\n",
    "print(\"Classification report:\\n\", classification_report(y_test, y_pred))\n",
    "print(\"Confusion matrix:\\n\", confusion_matrix(y_test, y_pred))\n",
    "\n",
    "plt.figure(figsize=(6, 4))\n",
    "sns.heatmap(\n",
    "    confusion_matrix(y_test, y_pred),\n",
    "    annot=True,\n",
    "    fmt=\"d\",\n",
    "    cmap=\"Blues\",\n",
    "    xticklabels=train_data.classes,\n",
    "    yticklabels=train_data.classes,\n",
    ")\n",
    "plt.xlabel(\"Prédiction\")\n",
    "plt.ylabel(\"Réel\")\n",
    "plt.title(\"Matrice de confusion - Random Forest avec PCA & CV\")\n",
    "plt.show()"
   ]
  },
  {
   "cell_type": "code",
   "execution_count": null,
   "id": "4c7f5bcd",
   "metadata": {},
   "outputs": [
    {
     "name": "stdout",
     "output_type": "stream",
     "text": [
      "Classification report and confusion matrix saved as parquet files.\n"
     ]
    }
   ],
   "source": [
    "import pandas as pd\n",
    "\n",
    "# Convert classification report to DataFrame\n",
    "report_dict = classification_report(y_test, y_pred, output_dict=True)\n",
    "report_df = pd.DataFrame(report_dict).transpose()\n",
    "\n",
    "# Convert confusion matrix to DataFrame\n",
    "cm_df = pd.DataFrame(\n",
    "    confusion_matrix(y_test, y_pred),\n",
    "    index=train_data.classes,\n",
    "    columns=train_data.classes,\n",
    ")\n",
    "\n",
    "# Save to parquet files\n",
    "report_df.to_parquet(\"results_rf/classification_report.parquet\")\n",
    "cm_df.to_parquet(\"results_rf/confusion_matrix.parquet\")\n",
    "\n",
    "print(\"Classification report and confusion matrix saved as parquet files.\")"
   ]
  }
 ],
 "metadata": {
  "kernelspec": {
   "display_name": "Python 3",
   "language": "python",
   "name": "python3"
  },
  "language_info": {
   "codemirror_mode": {
    "name": "ipython",
    "version": 3
   },
   "file_extension": ".py",
   "mimetype": "text/x-python",
   "name": "python",
   "nbconvert_exporter": "python",
   "pygments_lexer": "ipython3",
   "version": "3.11.11"
  }
 },
 "nbformat": 4,
 "nbformat_minor": 5
}
